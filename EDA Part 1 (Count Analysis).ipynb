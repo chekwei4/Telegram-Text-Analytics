{
 "cells": [
  {
   "cell_type": "code",
   "execution_count": 1,
   "metadata": {},
   "outputs": [
    {
     "name": "stderr",
     "output_type": "stream",
     "text": [
      "\n",
      "Bad key \"text.kerning_factor\" on line 4 in\n",
      "/opt/anaconda3/lib/python3.7/site-packages/matplotlib/mpl-data/stylelib/_classic_test_patch.mplstyle.\n",
      "You probably need to get an updated matplotlibrc file from\n",
      "https://github.com/matplotlib/matplotlib/blob/v3.1.3/matplotlibrc.template\n",
      "or from the matplotlib source distribution\n"
     ]
    }
   ],
   "source": [
    "import json\n",
    "import pandas as pd\n",
    "import seaborn as sns\n",
    "import matplotlib.pyplot as plt"
   ]
  },
  {
   "cell_type": "code",
   "execution_count": 2,
   "metadata": {},
   "outputs": [],
   "source": [
    "with open('clean1.json') as f:\n",
    "  telegramJson = json.load(f)"
   ]
  },
  {
   "cell_type": "code",
   "execution_count": 3,
   "metadata": {},
   "outputs": [
    {
     "data": {
      "text/plain": [
       "227326"
      ]
     },
     "execution_count": 3,
     "metadata": {},
     "output_type": "execute_result"
    }
   ],
   "source": [
    "len(telegramJson)"
   ]
  },
  {
   "cell_type": "code",
   "execution_count": 4,
   "metadata": {},
   "outputs": [
    {
     "data": {
      "text/plain": [
       "{'id': 752962,\n",
       " 'type': 'message',\n",
       " 'date': '2017-04-09T11:40:37',\n",
       " 'edited': '1970-01-01T07:30:00',\n",
       " 'from': 'Chekwei',\n",
       " 'from_id': 63910289,\n",
       " 'text': \"Omggg I don't want to wake up, feeling like DEATH\"}"
      ]
     },
     "execution_count": 4,
     "metadata": {},
     "output_type": "execute_result"
    }
   ],
   "source": [
    "#sample text message\n",
    "\n",
    "telegramJson[2]"
   ]
  },
  {
   "cell_type": "code",
   "execution_count": 5,
   "metadata": {},
   "outputs": [
    {
     "data": {
      "text/plain": [
       "list"
      ]
     },
     "execution_count": 5,
     "metadata": {},
     "output_type": "execute_result"
    }
   ],
   "source": [
    "type(telegramJson)"
   ]
  },
  {
   "cell_type": "code",
   "execution_count": 6,
   "metadata": {},
   "outputs": [],
   "source": [
    "df = pd.DataFrame(telegramJson)"
   ]
  },
  {
   "cell_type": "code",
   "execution_count": 7,
   "metadata": {},
   "outputs": [
    {
     "data": {
      "text/plain": [
       "Index(['id', 'type', 'date', 'edited', 'from', 'from_id', 'text',\n",
       "       'reply_to_message_id', 'photo', 'width', 'height', 'file', 'thumbnail',\n",
       "       'media_type', 'sticker_emoji', 'mime_type', 'duration_seconds',\n",
       "       'forwarded_from', 'via_bot', 'contact_information', 'actor', 'actor_id',\n",
       "       'action', 'discard_reason', 'location_information',\n",
       "       'live_location_period_seconds', 'contact_vcard', 'poll'],\n",
       "      dtype='object')"
      ]
     },
     "execution_count": 7,
     "metadata": {},
     "output_type": "execute_result"
    }
   ],
   "source": [
    "df.columns"
   ]
  },
  {
   "cell_type": "code",
   "execution_count": 8,
   "metadata": {},
   "outputs": [
    {
     "data": {
      "text/html": [
       "<div>\n",
       "<style scoped>\n",
       "    .dataframe tbody tr th:only-of-type {\n",
       "        vertical-align: middle;\n",
       "    }\n",
       "\n",
       "    .dataframe tbody tr th {\n",
       "        vertical-align: top;\n",
       "    }\n",
       "\n",
       "    .dataframe thead th {\n",
       "        text-align: right;\n",
       "    }\n",
       "</style>\n",
       "<table border=\"1\" class=\"dataframe\">\n",
       "  <thead>\n",
       "    <tr style=\"text-align: right;\">\n",
       "      <th></th>\n",
       "      <th>id</th>\n",
       "      <th>type</th>\n",
       "      <th>date</th>\n",
       "      <th>edited</th>\n",
       "      <th>from</th>\n",
       "      <th>from_id</th>\n",
       "      <th>text</th>\n",
       "      <th>reply_to_message_id</th>\n",
       "      <th>photo</th>\n",
       "      <th>width</th>\n",
       "      <th>...</th>\n",
       "      <th>via_bot</th>\n",
       "      <th>contact_information</th>\n",
       "      <th>actor</th>\n",
       "      <th>actor_id</th>\n",
       "      <th>action</th>\n",
       "      <th>discard_reason</th>\n",
       "      <th>location_information</th>\n",
       "      <th>live_location_period_seconds</th>\n",
       "      <th>contact_vcard</th>\n",
       "      <th>poll</th>\n",
       "    </tr>\n",
       "  </thead>\n",
       "  <tbody>\n",
       "    <tr>\n",
       "      <th>0</th>\n",
       "      <td>752960</td>\n",
       "      <td>message</td>\n",
       "      <td>2017-04-09T10:22:29</td>\n",
       "      <td>1970-01-01T07:30:00</td>\n",
       "      <td>BBCheng😘💓</td>\n",
       "      <td>44420247.0</td>\n",
       "      <td>Hello, Jiayin here! Cute pic there btw hahaha</td>\n",
       "      <td>NaN</td>\n",
       "      <td>NaN</td>\n",
       "      <td>NaN</td>\n",
       "      <td>...</td>\n",
       "      <td>NaN</td>\n",
       "      <td>NaN</td>\n",
       "      <td>NaN</td>\n",
       "      <td>NaN</td>\n",
       "      <td>NaN</td>\n",
       "      <td>NaN</td>\n",
       "      <td>NaN</td>\n",
       "      <td>NaN</td>\n",
       "      <td>NaN</td>\n",
       "      <td>NaN</td>\n",
       "    </tr>\n",
       "    <tr>\n",
       "      <th>1</th>\n",
       "      <td>752961</td>\n",
       "      <td>message</td>\n",
       "      <td>2017-04-09T11:40:25</td>\n",
       "      <td>1970-01-01T07:30:00</td>\n",
       "      <td>Chekwei</td>\n",
       "      <td>63910289.0</td>\n",
       "      <td>HEYHEYHEY</td>\n",
       "      <td>NaN</td>\n",
       "      <td>NaN</td>\n",
       "      <td>NaN</td>\n",
       "      <td>...</td>\n",
       "      <td>NaN</td>\n",
       "      <td>NaN</td>\n",
       "      <td>NaN</td>\n",
       "      <td>NaN</td>\n",
       "      <td>NaN</td>\n",
       "      <td>NaN</td>\n",
       "      <td>NaN</td>\n",
       "      <td>NaN</td>\n",
       "      <td>NaN</td>\n",
       "      <td>NaN</td>\n",
       "    </tr>\n",
       "    <tr>\n",
       "      <th>2</th>\n",
       "      <td>752962</td>\n",
       "      <td>message</td>\n",
       "      <td>2017-04-09T11:40:37</td>\n",
       "      <td>1970-01-01T07:30:00</td>\n",
       "      <td>Chekwei</td>\n",
       "      <td>63910289.0</td>\n",
       "      <td>Omggg I don't want to wake up, feeling like DEATH</td>\n",
       "      <td>NaN</td>\n",
       "      <td>NaN</td>\n",
       "      <td>NaN</td>\n",
       "      <td>...</td>\n",
       "      <td>NaN</td>\n",
       "      <td>NaN</td>\n",
       "      <td>NaN</td>\n",
       "      <td>NaN</td>\n",
       "      <td>NaN</td>\n",
       "      <td>NaN</td>\n",
       "      <td>NaN</td>\n",
       "      <td>NaN</td>\n",
       "      <td>NaN</td>\n",
       "      <td>NaN</td>\n",
       "    </tr>\n",
       "    <tr>\n",
       "      <th>3</th>\n",
       "      <td>752963</td>\n",
       "      <td>message</td>\n",
       "      <td>2017-04-09T11:45:38</td>\n",
       "      <td>1970-01-01T07:30:00</td>\n",
       "      <td>BBCheng😘💓</td>\n",
       "      <td>44420247.0</td>\n",
       "      <td>Hahaha!! What time did you studied till?</td>\n",
       "      <td>NaN</td>\n",
       "      <td>NaN</td>\n",
       "      <td>NaN</td>\n",
       "      <td>...</td>\n",
       "      <td>NaN</td>\n",
       "      <td>NaN</td>\n",
       "      <td>NaN</td>\n",
       "      <td>NaN</td>\n",
       "      <td>NaN</td>\n",
       "      <td>NaN</td>\n",
       "      <td>NaN</td>\n",
       "      <td>NaN</td>\n",
       "      <td>NaN</td>\n",
       "      <td>NaN</td>\n",
       "    </tr>\n",
       "    <tr>\n",
       "      <th>4</th>\n",
       "      <td>752964</td>\n",
       "      <td>message</td>\n",
       "      <td>2017-04-09T12:22:29</td>\n",
       "      <td>1970-01-01T07:30:00</td>\n",
       "      <td>Chekwei</td>\n",
       "      <td>63910289.0</td>\n",
       "      <td>I slept at 630!</td>\n",
       "      <td>NaN</td>\n",
       "      <td>NaN</td>\n",
       "      <td>NaN</td>\n",
       "      <td>...</td>\n",
       "      <td>NaN</td>\n",
       "      <td>NaN</td>\n",
       "      <td>NaN</td>\n",
       "      <td>NaN</td>\n",
       "      <td>NaN</td>\n",
       "      <td>NaN</td>\n",
       "      <td>NaN</td>\n",
       "      <td>NaN</td>\n",
       "      <td>NaN</td>\n",
       "      <td>NaN</td>\n",
       "    </tr>\n",
       "  </tbody>\n",
       "</table>\n",
       "<p>5 rows × 28 columns</p>\n",
       "</div>"
      ],
      "text/plain": [
       "       id     type                 date               edited       from  \\\n",
       "0  752960  message  2017-04-09T10:22:29  1970-01-01T07:30:00  BBCheng😘💓   \n",
       "1  752961  message  2017-04-09T11:40:25  1970-01-01T07:30:00    Chekwei   \n",
       "2  752962  message  2017-04-09T11:40:37  1970-01-01T07:30:00    Chekwei   \n",
       "3  752963  message  2017-04-09T11:45:38  1970-01-01T07:30:00  BBCheng😘💓   \n",
       "4  752964  message  2017-04-09T12:22:29  1970-01-01T07:30:00    Chekwei   \n",
       "\n",
       "      from_id                                               text  \\\n",
       "0  44420247.0      Hello, Jiayin here! Cute pic there btw hahaha   \n",
       "1  63910289.0                                          HEYHEYHEY   \n",
       "2  63910289.0  Omggg I don't want to wake up, feeling like DEATH   \n",
       "3  44420247.0           Hahaha!! What time did you studied till?   \n",
       "4  63910289.0                                    I slept at 630!   \n",
       "\n",
       "   reply_to_message_id photo  width  ...  via_bot contact_information actor  \\\n",
       "0                  NaN   NaN    NaN  ...      NaN                 NaN   NaN   \n",
       "1                  NaN   NaN    NaN  ...      NaN                 NaN   NaN   \n",
       "2                  NaN   NaN    NaN  ...      NaN                 NaN   NaN   \n",
       "3                  NaN   NaN    NaN  ...      NaN                 NaN   NaN   \n",
       "4                  NaN   NaN    NaN  ...      NaN                 NaN   NaN   \n",
       "\n",
       "  actor_id action discard_reason  location_information  \\\n",
       "0      NaN    NaN            NaN                   NaN   \n",
       "1      NaN    NaN            NaN                   NaN   \n",
       "2      NaN    NaN            NaN                   NaN   \n",
       "3      NaN    NaN            NaN                   NaN   \n",
       "4      NaN    NaN            NaN                   NaN   \n",
       "\n",
       "  live_location_period_seconds contact_vcard poll  \n",
       "0                          NaN           NaN  NaN  \n",
       "1                          NaN           NaN  NaN  \n",
       "2                          NaN           NaN  NaN  \n",
       "3                          NaN           NaN  NaN  \n",
       "4                          NaN           NaN  NaN  \n",
       "\n",
       "[5 rows x 28 columns]"
      ]
     },
     "execution_count": 8,
     "metadata": {},
     "output_type": "execute_result"
    }
   ],
   "source": [
    "df.head(5)"
   ]
  },
  {
   "cell_type": "code",
   "execution_count": 9,
   "metadata": {},
   "outputs": [],
   "source": [
    "#renaming partner's name to proper naming for easy analysis (without emoji)\n",
    "\n",
    "df['from'].replace('BBCheng😘💓', 'Jiayin', inplace=True)"
   ]
  },
  {
   "cell_type": "code",
   "execution_count": 10,
   "metadata": {},
   "outputs": [],
   "source": [
    "#removing unnecessary features from raw json\n",
    "\n",
    "df.drop(['reply_to_message_id', 'edited','photo', 'width', 'height', 'file', 'thumbnail',\n",
    "       'media_type', 'sticker_emoji', 'mime_type', 'duration_seconds',\n",
    "       'forwarded_from', 'via_bot', 'contact_information', 'actor', 'actor_id',\n",
    "       'action', 'discard_reason', 'location_information',\n",
    "       'live_location_period_seconds', 'contact_vcard', 'poll'], axis=1, inplace=True)"
   ]
  },
  {
   "cell_type": "code",
   "execution_count": 11,
   "metadata": {},
   "outputs": [
    {
     "data": {
      "text/html": [
       "<div>\n",
       "<style scoped>\n",
       "    .dataframe tbody tr th:only-of-type {\n",
       "        vertical-align: middle;\n",
       "    }\n",
       "\n",
       "    .dataframe tbody tr th {\n",
       "        vertical-align: top;\n",
       "    }\n",
       "\n",
       "    .dataframe thead th {\n",
       "        text-align: right;\n",
       "    }\n",
       "</style>\n",
       "<table border=\"1\" class=\"dataframe\">\n",
       "  <thead>\n",
       "    <tr style=\"text-align: right;\">\n",
       "      <th></th>\n",
       "      <th>id</th>\n",
       "      <th>type</th>\n",
       "      <th>date</th>\n",
       "      <th>from</th>\n",
       "      <th>from_id</th>\n",
       "      <th>text</th>\n",
       "    </tr>\n",
       "  </thead>\n",
       "  <tbody>\n",
       "    <tr>\n",
       "      <th>0</th>\n",
       "      <td>752960</td>\n",
       "      <td>message</td>\n",
       "      <td>2017-04-09T10:22:29</td>\n",
       "      <td>Jiayin</td>\n",
       "      <td>44420247.0</td>\n",
       "      <td>Hello, Jiayin here! Cute pic there btw hahaha</td>\n",
       "    </tr>\n",
       "    <tr>\n",
       "      <th>1</th>\n",
       "      <td>752961</td>\n",
       "      <td>message</td>\n",
       "      <td>2017-04-09T11:40:25</td>\n",
       "      <td>Chekwei</td>\n",
       "      <td>63910289.0</td>\n",
       "      <td>HEYHEYHEY</td>\n",
       "    </tr>\n",
       "    <tr>\n",
       "      <th>2</th>\n",
       "      <td>752962</td>\n",
       "      <td>message</td>\n",
       "      <td>2017-04-09T11:40:37</td>\n",
       "      <td>Chekwei</td>\n",
       "      <td>63910289.0</td>\n",
       "      <td>Omggg I don't want to wake up, feeling like DEATH</td>\n",
       "    </tr>\n",
       "    <tr>\n",
       "      <th>3</th>\n",
       "      <td>752963</td>\n",
       "      <td>message</td>\n",
       "      <td>2017-04-09T11:45:38</td>\n",
       "      <td>Jiayin</td>\n",
       "      <td>44420247.0</td>\n",
       "      <td>Hahaha!! What time did you studied till?</td>\n",
       "    </tr>\n",
       "    <tr>\n",
       "      <th>4</th>\n",
       "      <td>752964</td>\n",
       "      <td>message</td>\n",
       "      <td>2017-04-09T12:22:29</td>\n",
       "      <td>Chekwei</td>\n",
       "      <td>63910289.0</td>\n",
       "      <td>I slept at 630!</td>\n",
       "    </tr>\n",
       "  </tbody>\n",
       "</table>\n",
       "</div>"
      ],
      "text/plain": [
       "       id     type                 date     from     from_id  \\\n",
       "0  752960  message  2017-04-09T10:22:29   Jiayin  44420247.0   \n",
       "1  752961  message  2017-04-09T11:40:25  Chekwei  63910289.0   \n",
       "2  752962  message  2017-04-09T11:40:37  Chekwei  63910289.0   \n",
       "3  752963  message  2017-04-09T11:45:38   Jiayin  44420247.0   \n",
       "4  752964  message  2017-04-09T12:22:29  Chekwei  63910289.0   \n",
       "\n",
       "                                                text  \n",
       "0      Hello, Jiayin here! Cute pic there btw hahaha  \n",
       "1                                          HEYHEYHEY  \n",
       "2  Omggg I don't want to wake up, feeling like DEATH  \n",
       "3           Hahaha!! What time did you studied till?  \n",
       "4                                    I slept at 630!  "
      ]
     },
     "execution_count": 11,
     "metadata": {},
     "output_type": "execute_result"
    }
   ],
   "source": [
    "df.head()"
   ]
  },
  {
   "cell_type": "code",
   "execution_count": 12,
   "metadata": {},
   "outputs": [
    {
     "name": "stdout",
     "output_type": "stream",
     "text": [
      "227326\n"
     ]
    }
   ],
   "source": [
    "total = len(df)\n",
    "print(total)"
   ]
  },
  {
   "cell_type": "markdown",
   "metadata": {},
   "source": [
    "# EDA on counts over the Days, Months, Years"
   ]
  },
  {
   "cell_type": "code",
   "execution_count": 13,
   "metadata": {},
   "outputs": [],
   "source": [
    "#creating new feature (year) for easy analysis\n",
    "\n",
    "df['year'] = df['date'].astype(str).str[0:4]"
   ]
  },
  {
   "cell_type": "code",
   "execution_count": 14,
   "metadata": {},
   "outputs": [
    {
     "data": {
      "text/html": [
       "<div>\n",
       "<style scoped>\n",
       "    .dataframe tbody tr th:only-of-type {\n",
       "        vertical-align: middle;\n",
       "    }\n",
       "\n",
       "    .dataframe tbody tr th {\n",
       "        vertical-align: top;\n",
       "    }\n",
       "\n",
       "    .dataframe thead th {\n",
       "        text-align: right;\n",
       "    }\n",
       "</style>\n",
       "<table border=\"1\" class=\"dataframe\">\n",
       "  <thead>\n",
       "    <tr style=\"text-align: right;\">\n",
       "      <th></th>\n",
       "      <th>id</th>\n",
       "      <th>type</th>\n",
       "      <th>date</th>\n",
       "      <th>from</th>\n",
       "      <th>from_id</th>\n",
       "      <th>text</th>\n",
       "      <th>year</th>\n",
       "    </tr>\n",
       "  </thead>\n",
       "  <tbody>\n",
       "    <tr>\n",
       "      <th>0</th>\n",
       "      <td>752960</td>\n",
       "      <td>message</td>\n",
       "      <td>2017-04-09T10:22:29</td>\n",
       "      <td>Jiayin</td>\n",
       "      <td>44420247.0</td>\n",
       "      <td>Hello, Jiayin here! Cute pic there btw hahaha</td>\n",
       "      <td>2017</td>\n",
       "    </tr>\n",
       "    <tr>\n",
       "      <th>1</th>\n",
       "      <td>752961</td>\n",
       "      <td>message</td>\n",
       "      <td>2017-04-09T11:40:25</td>\n",
       "      <td>Chekwei</td>\n",
       "      <td>63910289.0</td>\n",
       "      <td>HEYHEYHEY</td>\n",
       "      <td>2017</td>\n",
       "    </tr>\n",
       "    <tr>\n",
       "      <th>2</th>\n",
       "      <td>752962</td>\n",
       "      <td>message</td>\n",
       "      <td>2017-04-09T11:40:37</td>\n",
       "      <td>Chekwei</td>\n",
       "      <td>63910289.0</td>\n",
       "      <td>Omggg I don't want to wake up, feeling like DEATH</td>\n",
       "      <td>2017</td>\n",
       "    </tr>\n",
       "    <tr>\n",
       "      <th>3</th>\n",
       "      <td>752963</td>\n",
       "      <td>message</td>\n",
       "      <td>2017-04-09T11:45:38</td>\n",
       "      <td>Jiayin</td>\n",
       "      <td>44420247.0</td>\n",
       "      <td>Hahaha!! What time did you studied till?</td>\n",
       "      <td>2017</td>\n",
       "    </tr>\n",
       "    <tr>\n",
       "      <th>4</th>\n",
       "      <td>752964</td>\n",
       "      <td>message</td>\n",
       "      <td>2017-04-09T12:22:29</td>\n",
       "      <td>Chekwei</td>\n",
       "      <td>63910289.0</td>\n",
       "      <td>I slept at 630!</td>\n",
       "      <td>2017</td>\n",
       "    </tr>\n",
       "  </tbody>\n",
       "</table>\n",
       "</div>"
      ],
      "text/plain": [
       "       id     type                 date     from     from_id  \\\n",
       "0  752960  message  2017-04-09T10:22:29   Jiayin  44420247.0   \n",
       "1  752961  message  2017-04-09T11:40:25  Chekwei  63910289.0   \n",
       "2  752962  message  2017-04-09T11:40:37  Chekwei  63910289.0   \n",
       "3  752963  message  2017-04-09T11:45:38   Jiayin  44420247.0   \n",
       "4  752964  message  2017-04-09T12:22:29  Chekwei  63910289.0   \n",
       "\n",
       "                                                text  year  \n",
       "0      Hello, Jiayin here! Cute pic there btw hahaha  2017  \n",
       "1                                          HEYHEYHEY  2017  \n",
       "2  Omggg I don't want to wake up, feeling like DEATH  2017  \n",
       "3           Hahaha!! What time did you studied till?  2017  \n",
       "4                                    I slept at 630!  2017  "
      ]
     },
     "execution_count": 14,
     "metadata": {},
     "output_type": "execute_result"
    }
   ],
   "source": [
    "df.head()"
   ]
  },
  {
   "cell_type": "code",
   "execution_count": 15,
   "metadata": {},
   "outputs": [
    {
     "data": {
      "text/plain": [
       "Text(0, 0.5, 'Messages')"
      ]
     },
     "execution_count": 15,
     "metadata": {},
     "output_type": "execute_result"
    },
    {
     "data": {
      "image/png": "[encoded data removed]",
      "text/plain": [
       "<Figure size 576x360 with 1 Axes>"
      ]
     },
     "metadata": {
      "needs_background": "light"
     },
     "output_type": "display_data"
    }
   ],
   "source": [
    "# How many messages have we sent over the years?\n",
    "\n",
    "xpos = 'center'\n",
    "offset = {'center': 0.5}\n",
    "plt.figure(figsize=(8,5))\n",
    "ax = sns.countplot('from', data=df)\n",
    "\n",
    "for rect in ax.patches:\n",
    "        height = rect.get_height()\n",
    "        ax.text(rect.get_x() + rect.get_width() * offset[xpos], 1 * height, '{}'.format(height), va='bottom', fontsize=10)\n",
    "\n",
    "\n",
    "plt.title('How many messages have we sent over the years?', fontsize = 12)\n",
    "plt.xlabel(\"Year\", labelpad=14)\n",
    "plt.ylabel(\"Messages\", labelpad=14)"
   ]
  },
  {
   "cell_type": "code",
   "execution_count": 16,
   "metadata": {},
   "outputs": [
    {
     "data": {
      "text/plain": [
       "Text(0, 0.5, 'Messages')"
      ]
     },
     "execution_count": 16,
     "metadata": {},
     "output_type": "execute_result"
    },
    {
     "data": {
      "image/png": "[encoded data removed]",
      "text/plain": [
       "<Figure size 576x360 with 1 Axes>"
      ]
     },
     "metadata": {
      "needs_background": "light"
     },
     "output_type": "display_data"
    }
   ],
   "source": [
    "# How many messages have we sent over the years?\n",
    "\n",
    "xpos = 'center'\n",
    "offset = {'center': 0.5}\n",
    "plt.figure(figsize=(8,5))\n",
    "ax = sns.countplot('year', data=df)\n",
    "\n",
    "for rect in ax.patches:\n",
    "        height = rect.get_height()\n",
    "        ax.text(rect.get_x() + rect.get_width() * offset[xpos], 1 * height, '{}'.format(height), va='bottom', fontsize=10)\n",
    "\n",
    "\n",
    "plt.title('How many messages have we sent over the years?', fontsize = 12)\n",
    "plt.xlabel(\"Year\", labelpad=14)\n",
    "plt.ylabel(\"Messages\", labelpad=14)"
   ]
  },
  {
   "cell_type": "code",
   "execution_count": 17,
   "metadata": {},
   "outputs": [
    {
     "data": {
      "text/plain": [
       "Text(0, 0.5, 'Messages')"
      ]
     },
     "execution_count": 17,
     "metadata": {},
     "output_type": "execute_result"
    },
    {
     "data": {
      "image/png": "[encoded data removed]",
      "text/plain": [
       "<Figure size 576x360 with 1 Axes>"
      ]
     },
     "metadata": {
      "needs_background": "light"
     },
     "output_type": "display_data"
    }
   ],
   "source": [
    "# How many messages have we sent over the years?\n",
    "\n",
    "xpos = 'center'\n",
    "offset = {'center': 0.2}\n",
    "plt.figure(figsize=(8,5))\n",
    "ax = sns.countplot('year', data=df, hue='from')\n",
    "\n",
    "for rect in ax.patches:\n",
    "        height = rect.get_height()\n",
    "        ax.text(rect.get_x() + rect.get_width() * offset[xpos], 1 * height, '{}'.format(height), va='bottom', fontsize=10)\n",
    "\n",
    "\n",
    "plt.title('How many messages have we sent over the years?', fontsize = 12)\n",
    "plt.xlabel(\"Year\", labelpad=14)\n",
    "plt.ylabel(\"Messages\", labelpad=14)"
   ]
  },
  {
   "cell_type": "markdown",
   "metadata": {},
   "source": [
    "# EDA deep dive by analysing Months and Years"
   ]
  },
  {
   "cell_type": "code",
   "execution_count": 18,
   "metadata": {},
   "outputs": [],
   "source": [
    "# creating new feature (month) for easy analysis\n",
    "\n",
    "df['month'] = df['date'].astype(str).str[5:7]"
   ]
  },
  {
   "cell_type": "code",
   "execution_count": 19,
   "metadata": {},
   "outputs": [
    {
     "data": {
      "text/html": [
       "<div>\n",
       "<style scoped>\n",
       "    .dataframe tbody tr th:only-of-type {\n",
       "        vertical-align: middle;\n",
       "    }\n",
       "\n",
       "    .dataframe tbody tr th {\n",
       "        vertical-align: top;\n",
       "    }\n",
       "\n",
       "    .dataframe thead th {\n",
       "        text-align: right;\n",
       "    }\n",
       "</style>\n",
       "<table border=\"1\" class=\"dataframe\">\n",
       "  <thead>\n",
       "    <tr style=\"text-align: right;\">\n",
       "      <th></th>\n",
       "      <th>id</th>\n",
       "      <th>type</th>\n",
       "      <th>date</th>\n",
       "      <th>from</th>\n",
       "      <th>from_id</th>\n",
       "      <th>text</th>\n",
       "      <th>year</th>\n",
       "      <th>month</th>\n",
       "    </tr>\n",
       "  </thead>\n",
       "  <tbody>\n",
       "    <tr>\n",
       "      <th>0</th>\n",
       "      <td>752960</td>\n",
       "      <td>message</td>\n",
       "      <td>2017-04-09T10:22:29</td>\n",
       "      <td>Jiayin</td>\n",
       "      <td>44420247.0</td>\n",
       "      <td>Hello, Jiayin here! Cute pic there btw hahaha</td>\n",
       "      <td>2017</td>\n",
       "      <td>04</td>\n",
       "    </tr>\n",
       "    <tr>\n",
       "      <th>1</th>\n",
       "      <td>752961</td>\n",
       "      <td>message</td>\n",
       "      <td>2017-04-09T11:40:25</td>\n",
       "      <td>Chekwei</td>\n",
       "      <td>63910289.0</td>\n",
       "      <td>HEYHEYHEY</td>\n",
       "      <td>2017</td>\n",
       "      <td>04</td>\n",
       "    </tr>\n",
       "    <tr>\n",
       "      <th>2</th>\n",
       "      <td>752962</td>\n",
       "      <td>message</td>\n",
       "      <td>2017-04-09T11:40:37</td>\n",
       "      <td>Chekwei</td>\n",
       "      <td>63910289.0</td>\n",
       "      <td>Omggg I don't want to wake up, feeling like DEATH</td>\n",
       "      <td>2017</td>\n",
       "      <td>04</td>\n",
       "    </tr>\n",
       "    <tr>\n",
       "      <th>3</th>\n",
       "      <td>752963</td>\n",
       "      <td>message</td>\n",
       "      <td>2017-04-09T11:45:38</td>\n",
       "      <td>Jiayin</td>\n",
       "      <td>44420247.0</td>\n",
       "      <td>Hahaha!! What time did you studied till?</td>\n",
       "      <td>2017</td>\n",
       "      <td>04</td>\n",
       "    </tr>\n",
       "    <tr>\n",
       "      <th>4</th>\n",
       "      <td>752964</td>\n",
       "      <td>message</td>\n",
       "      <td>2017-04-09T12:22:29</td>\n",
       "      <td>Chekwei</td>\n",
       "      <td>63910289.0</td>\n",
       "      <td>I slept at 630!</td>\n",
       "      <td>2017</td>\n",
       "      <td>04</td>\n",
       "    </tr>\n",
       "  </tbody>\n",
       "</table>\n",
       "</div>"
      ],
      "text/plain": [
       "       id     type                 date     from     from_id  \\\n",
       "0  752960  message  2017-04-09T10:22:29   Jiayin  44420247.0   \n",
       "1  752961  message  2017-04-09T11:40:25  Chekwei  63910289.0   \n",
       "2  752962  message  2017-04-09T11:40:37  Chekwei  63910289.0   \n",
       "3  752963  message  2017-04-09T11:45:38   Jiayin  44420247.0   \n",
       "4  752964  message  2017-04-09T12:22:29  Chekwei  63910289.0   \n",
       "\n",
       "                                                text  year month  \n",
       "0      Hello, Jiayin here! Cute pic there btw hahaha  2017    04  \n",
       "1                                          HEYHEYHEY  2017    04  \n",
       "2  Omggg I don't want to wake up, feeling like DEATH  2017    04  \n",
       "3           Hahaha!! What time did you studied till?  2017    04  \n",
       "4                                    I slept at 630!  2017    04  "
      ]
     },
     "execution_count": 19,
     "metadata": {},
     "output_type": "execute_result"
    }
   ],
   "source": [
    "df.head()"
   ]
  },
  {
   "cell_type": "code",
   "execution_count": null,
   "metadata": {},
   "outputs": [],
   "source": [
    "\"\"\"\"\n",
    "#creating new feature (Month2) for easy analysis and reading - eg. Apr, May, Jun\n",
    "monthMap = {'01':'Jan','02':'Feb','03':'Mar','04':'Apr','05':'May','06':'Jun','07':'Jul','08':'Aug', '09':'Sep','10':'Oct','11':'Nov','12':'Dec'}\n",
    "df['month2'] = df['month'].map(monthMap)\n",
    "df.drop(['month'], axis=1, inplace=True)\n",
    "df.rename(columns={'month2':'month'}, inplace=True)\n",
    "\"\"\"\""
   ]
  },
  {
   "cell_type": "code",
   "execution_count": 20,
   "metadata": {},
   "outputs": [],
   "source": [
    "# creating simple pd DF with 12 months of counts across the 3 years of data\n",
    "\n",
    "year2017bymonth = pd.DataFrame(df[df['year']=='2017']['id'].groupby(df['month']).count())\n",
    "year2018bymonth = pd.DataFrame(df[df['year']=='2018']['id'].groupby(df['month']).count())\n",
    "year2019bymonth = pd.DataFrame(df[df['year']=='2019']['id'].groupby(df['month']).count())\n",
    "year2017bymonth = year2017bymonth.reset_index()\n",
    "year2018bymonth = year2018bymonth.reset_index()\n",
    "year2019bymonth = year2019bymonth.reset_index()"
   ]
  },
  {
   "cell_type": "code",
   "execution_count": 21,
   "metadata": {},
   "outputs": [
    {
     "data": {
      "text/plain": [
       "Text(0.5, 1.0, 'Total number of messages sent by months in 2017')"
      ]
     },
     "execution_count": 21,
     "metadata": {},
     "output_type": "execute_result"
    },
    {
     "data": {
      "image/png": "[encoded data removed]",
      "text/plain": [
       "<Figure size 432x288 with 1 Axes>"
      ]
     },
     "metadata": {
      "needs_background": "light"
     },
     "output_type": "display_data"
    }
   ],
   "source": [
    "# Total number of messages sent by months in 2017\n",
    "\n",
    "sns.barplot(x=\"month\", y=\"id\", data=year2017bymonth)\n",
    "plt.title('Total number of messages sent by months in 2017', fontsize = 12)"
   ]
  },
  {
   "cell_type": "code",
   "execution_count": 23,
   "metadata": {},
   "outputs": [
    {
     "data": {
      "text/plain": [
       "Text(0.5, 1.0, 'Total number of messages sent by months in 2018')"
      ]
     },
     "execution_count": 23,
     "metadata": {},
     "output_type": "execute_result"
    },
    {
     "data": {
      "image/png": "[encoded data removed]",
      "text/plain": [
       "<Figure size 432x288 with 1 Axes>"
      ]
     },
     "metadata": {
      "needs_background": "light"
     },
     "output_type": "display_data"
    }
   ],
   "source": [
    "# Total number of messages sent by months in 2018\n",
    "\n",
    "sns.barplot(x=\"month\", y=\"id\", data=year2018bymonth)\n",
    "plt.xlabel(\"Months\", labelpad=14)\n",
    "plt.ylabel(\"Messages\", labelpad=14)\n",
    "plt.title('Total number of messages sent by months in 2018', fontsize = 12)"
   ]
  },
  {
   "cell_type": "code",
   "execution_count": 25,
   "metadata": {
    "scrolled": true
   },
   "outputs": [
    {
     "data": {
      "text/plain": [
       "Text(0.5, 1.0, 'Total number of messages sent by months in 2019')"
      ]
     },
     "execution_count": 25,
     "metadata": {},
     "output_type": "execute_result"
    },
    {
     "data": {
      "image/png": "[encoded data removed]",
      "text/plain": [
       "<Figure size 432x288 with 1 Axes>"
      ]
     },
     "metadata": {
      "needs_background": "light"
     },
     "output_type": "display_data"
    }
   ],
   "source": [
    "# Total number of messages sent by months in 2019\n",
    "\n",
    "sns.barplot(x=\"month\", y=\"id\", data=year2019bymonth)\n",
    "plt.xlabel(\"Months\", labelpad=14)\n",
    "plt.ylabel(\"Messages\", labelpad=14)\n",
    "plt.title('Total number of messages sent by months in 2019', fontsize = 12)"
   ]
  },
  {
   "cell_type": "markdown",
   "metadata": {},
   "source": [
    "# EDA deep dive by analysing Hours/Time of the day"
   ]
  },
  {
   "cell_type": "code",
   "execution_count": 26,
   "metadata": {},
   "outputs": [],
   "source": [
    "# creating new feature (hour) for easy analysis\n",
    "\n",
    "df['hour'] = df['date'].astype(str).str[11:13]"
   ]
  },
  {
   "cell_type": "code",
   "execution_count": 27,
   "metadata": {},
   "outputs": [
    {
     "data": {
      "text/html": [
       "<div>\n",
       "<style scoped>\n",
       "    .dataframe tbody tr th:only-of-type {\n",
       "        vertical-align: middle;\n",
       "    }\n",
       "\n",
       "    .dataframe tbody tr th {\n",
       "        vertical-align: top;\n",
       "    }\n",
       "\n",
       "    .dataframe thead th {\n",
       "        text-align: right;\n",
       "    }\n",
       "</style>\n",
       "<table border=\"1\" class=\"dataframe\">\n",
       "  <thead>\n",
       "    <tr style=\"text-align: right;\">\n",
       "      <th></th>\n",
       "      <th>id</th>\n",
       "      <th>type</th>\n",
       "      <th>date</th>\n",
       "      <th>from</th>\n",
       "      <th>from_id</th>\n",
       "      <th>text</th>\n",
       "      <th>year</th>\n",
       "      <th>month</th>\n",
       "      <th>hour</th>\n",
       "    </tr>\n",
       "  </thead>\n",
       "  <tbody>\n",
       "    <tr>\n",
       "      <th>0</th>\n",
       "      <td>752960</td>\n",
       "      <td>message</td>\n",
       "      <td>2017-04-09T10:22:29</td>\n",
       "      <td>Jiayin</td>\n",
       "      <td>44420247.0</td>\n",
       "      <td>Hello, Jiayin here! Cute pic there btw hahaha</td>\n",
       "      <td>2017</td>\n",
       "      <td>04</td>\n",
       "      <td>10</td>\n",
       "    </tr>\n",
       "    <tr>\n",
       "      <th>1</th>\n",
       "      <td>752961</td>\n",
       "      <td>message</td>\n",
       "      <td>2017-04-09T11:40:25</td>\n",
       "      <td>Chekwei</td>\n",
       "      <td>63910289.0</td>\n",
       "      <td>HEYHEYHEY</td>\n",
       "      <td>2017</td>\n",
       "      <td>04</td>\n",
       "      <td>11</td>\n",
       "    </tr>\n",
       "    <tr>\n",
       "      <th>2</th>\n",
       "      <td>752962</td>\n",
       "      <td>message</td>\n",
       "      <td>2017-04-09T11:40:37</td>\n",
       "      <td>Chekwei</td>\n",
       "      <td>63910289.0</td>\n",
       "      <td>Omggg I don't want to wake up, feeling like DEATH</td>\n",
       "      <td>2017</td>\n",
       "      <td>04</td>\n",
       "      <td>11</td>\n",
       "    </tr>\n",
       "    <tr>\n",
       "      <th>3</th>\n",
       "      <td>752963</td>\n",
       "      <td>message</td>\n",
       "      <td>2017-04-09T11:45:38</td>\n",
       "      <td>Jiayin</td>\n",
       "      <td>44420247.0</td>\n",
       "      <td>Hahaha!! What time did you studied till?</td>\n",
       "      <td>2017</td>\n",
       "      <td>04</td>\n",
       "      <td>11</td>\n",
       "    </tr>\n",
       "    <tr>\n",
       "      <th>4</th>\n",
       "      <td>752964</td>\n",
       "      <td>message</td>\n",
       "      <td>2017-04-09T12:22:29</td>\n",
       "      <td>Chekwei</td>\n",
       "      <td>63910289.0</td>\n",
       "      <td>I slept at 630!</td>\n",
       "      <td>2017</td>\n",
       "      <td>04</td>\n",
       "      <td>12</td>\n",
       "    </tr>\n",
       "  </tbody>\n",
       "</table>\n",
       "</div>"
      ],
      "text/plain": [
       "       id     type                 date     from     from_id  \\\n",
       "0  752960  message  2017-04-09T10:22:29   Jiayin  44420247.0   \n",
       "1  752961  message  2017-04-09T11:40:25  Chekwei  63910289.0   \n",
       "2  752962  message  2017-04-09T11:40:37  Chekwei  63910289.0   \n",
       "3  752963  message  2017-04-09T11:45:38   Jiayin  44420247.0   \n",
       "4  752964  message  2017-04-09T12:22:29  Chekwei  63910289.0   \n",
       "\n",
       "                                                text  year month hour  \n",
       "0      Hello, Jiayin here! Cute pic there btw hahaha  2017    04   10  \n",
       "1                                          HEYHEYHEY  2017    04   11  \n",
       "2  Omggg I don't want to wake up, feeling like DEATH  2017    04   11  \n",
       "3           Hahaha!! What time did you studied till?  2017    04   11  \n",
       "4                                    I slept at 630!  2017    04   12  "
      ]
     },
     "execution_count": 27,
     "metadata": {},
     "output_type": "execute_result"
    }
   ],
   "source": [
    "df.head()"
   ]
  },
  {
   "cell_type": "code",
   "execution_count": null,
   "metadata": {},
   "outputs": [],
   "source": [
    "\"\"\"\"\n",
    "#creating method to determine if text was sent in morning, afternoon, night\n",
    "def impute_period(hr):\n",
    "    hour = int(hr)\n",
    "    \n",
    "    if hour >6 and hour <=12:\n",
    "        return 'Morning'\n",
    "    elif hour >13 and hour<=19:\n",
    "        return 'Afternoon'\n",
    "    else: \n",
    "        return 'Night'\n",
    "\"\"\""
   ]
  },
  {
   "cell_type": "code",
   "execution_count": 28,
   "metadata": {},
   "outputs": [],
   "source": [
    "hourPeriod = pd.DataFrame(df.groupby('hour')['id'].count())\n",
    "hourPeriod = hourPeriod.reset_index()"
   ]
  },
  {
   "cell_type": "code",
   "execution_count": 29,
   "metadata": {},
   "outputs": [
    {
     "data": {
      "text/plain": [
       "Text(0, 0.5, 'Messages')"
      ]
     },
     "execution_count": 29,
     "metadata": {},
     "output_type": "execute_result"
    },
    {
     "data": {
      "image/png": "[encoded data removed]",
      "text/plain": [
       "<Figure size 576x360 with 1 Axes>"
      ]
     },
     "metadata": {
      "needs_background": "light"
     },
     "output_type": "display_data"
    }
   ],
   "source": [
    "# Total number of messages sent by hour\n",
    "\n",
    "plt.figure(figsize=(8,5))\n",
    "sns.barplot(x=\"hour\", y=\"id\", data=hourPeriod)\n",
    "plt.title('Total number of messages sent by hours', fontsize = 12)\n",
    "plt.xlabel(\"Hour\", labelpad=14)\n",
    "plt.ylabel(\"Messages\", labelpad=14)"
   ]
  },
  {
   "cell_type": "code",
   "execution_count": 30,
   "metadata": {},
   "outputs": [],
   "source": [
    "yearHour = pd.DataFrame(df.groupby(['hour','year'])['id'].count())\n",
    "yearHour = yearHour.reset_index()"
   ]
  },
  {
   "cell_type": "code",
   "execution_count": 31,
   "metadata": {},
   "outputs": [
    {
     "data": {
      "text/html": [
       "<div>\n",
       "<style scoped>\n",
       "    .dataframe tbody tr th:only-of-type {\n",
       "        vertical-align: middle;\n",
       "    }\n",
       "\n",
       "    .dataframe tbody tr th {\n",
       "        vertical-align: top;\n",
       "    }\n",
       "\n",
       "    .dataframe thead th {\n",
       "        text-align: right;\n",
       "    }\n",
       "</style>\n",
       "<table border=\"1\" class=\"dataframe\">\n",
       "  <thead>\n",
       "    <tr style=\"text-align: right;\">\n",
       "      <th></th>\n",
       "      <th>hour</th>\n",
       "      <th>year</th>\n",
       "      <th>id</th>\n",
       "    </tr>\n",
       "  </thead>\n",
       "  <tbody>\n",
       "    <tr>\n",
       "      <th>0</th>\n",
       "      <td>00</td>\n",
       "      <td>2017</td>\n",
       "      <td>11388</td>\n",
       "    </tr>\n",
       "    <tr>\n",
       "      <th>1</th>\n",
       "      <td>00</td>\n",
       "      <td>2018</td>\n",
       "      <td>6834</td>\n",
       "    </tr>\n",
       "    <tr>\n",
       "      <th>2</th>\n",
       "      <td>00</td>\n",
       "      <td>2019</td>\n",
       "      <td>1807</td>\n",
       "    </tr>\n",
       "    <tr>\n",
       "      <th>3</th>\n",
       "      <td>00</td>\n",
       "      <td>2020</td>\n",
       "      <td>1243</td>\n",
       "    </tr>\n",
       "    <tr>\n",
       "      <th>4</th>\n",
       "      <td>01</td>\n",
       "      <td>2017</td>\n",
       "      <td>6422</td>\n",
       "    </tr>\n",
       "    <tr>\n",
       "      <th>...</th>\n",
       "      <td>...</td>\n",
       "      <td>...</td>\n",
       "      <td>...</td>\n",
       "    </tr>\n",
       "    <tr>\n",
       "      <th>90</th>\n",
       "      <td>22</td>\n",
       "      <td>2020</td>\n",
       "      <td>1678</td>\n",
       "    </tr>\n",
       "    <tr>\n",
       "      <th>91</th>\n",
       "      <td>23</td>\n",
       "      <td>2017</td>\n",
       "      <td>10107</td>\n",
       "    </tr>\n",
       "    <tr>\n",
       "      <th>92</th>\n",
       "      <td>23</td>\n",
       "      <td>2018</td>\n",
       "      <td>8743</td>\n",
       "    </tr>\n",
       "    <tr>\n",
       "      <th>93</th>\n",
       "      <td>23</td>\n",
       "      <td>2019</td>\n",
       "      <td>3003</td>\n",
       "    </tr>\n",
       "    <tr>\n",
       "      <th>94</th>\n",
       "      <td>23</td>\n",
       "      <td>2020</td>\n",
       "      <td>1063</td>\n",
       "    </tr>\n",
       "  </tbody>\n",
       "</table>\n",
       "<p>95 rows × 3 columns</p>\n",
       "</div>"
      ],
      "text/plain": [
       "   hour  year     id\n",
       "0    00  2017  11388\n",
       "1    00  2018   6834\n",
       "2    00  2019   1807\n",
       "3    00  2020   1243\n",
       "4    01  2017   6422\n",
       "..  ...   ...    ...\n",
       "90   22  2020   1678\n",
       "91   23  2017  10107\n",
       "92   23  2018   8743\n",
       "93   23  2019   3003\n",
       "94   23  2020   1063\n",
       "\n",
       "[95 rows x 3 columns]"
      ]
     },
     "execution_count": 31,
     "metadata": {},
     "output_type": "execute_result"
    }
   ],
   "source": [
    "yearHour"
   ]
  },
  {
   "cell_type": "code",
   "execution_count": 32,
   "metadata": {},
   "outputs": [
    {
     "data": {
      "image/png": "[encoded data removed]",
      "text/plain": [
       "<Figure size 1440x432 with 2 Axes>"
      ]
     },
     "metadata": {
      "needs_background": "light"
     },
     "output_type": "display_data"
    }
   ],
   "source": [
    "# heatmap of hours vs 4 years, by number of text messages\n",
    "\n",
    "fig, ax = plt.subplots(figsize=(20,6))\n",
    "heatmap_data = pd.pivot_table(yearHour, values='id', \n",
    "                     index=['year'], \n",
    "                     columns='hour')\n",
    "sns.heatmap(heatmap_data, cmap='Blues',linewidths=1, ax=ax)\n",
    "\n",
    "plt.xlabel(\"Hour\") \n",
    "plt.ylabel(\"Year\")\n",
    "plt.show()"
   ]
  },
  {
   "cell_type": "code",
   "execution_count": null,
   "metadata": {},
   "outputs": [],
   "source": []
  }
 ],
 "metadata": {
  "kernelspec": {
   "display_name": "Python 3",
   "language": "python",
   "name": "python3"
  },
  "language_info": {
   "codemirror_mode": {
    "name": "ipython",
    "version": 3
   },
   "file_extension": ".py",
   "mimetype": "text/x-python",
   "name": "python",
   "nbconvert_exporter": "python",
   "pygments_lexer": "ipython3",
   "version": "3.7.6"
  }
 },
 "nbformat": 4,
 "nbformat_minor": 2
}
