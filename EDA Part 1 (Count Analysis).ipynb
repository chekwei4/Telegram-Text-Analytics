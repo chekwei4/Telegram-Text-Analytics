{
 "cells": [
  {
   "cell_type": "code",
   "execution_count": null,
   "metadata": {},
   "outputs": [],
   "source": [
    "import json\n",
    "import pandas as pd\n",
    "import seaborn as sns\n",
    "import matplotlib.pyplot as plt"
   ]
  },
  {
   "cell_type": "code",
   "execution_count": null,
   "metadata": {},
   "outputs": [],
   "source": [
    "with open('clean1.json') as f:\n",
    "  telegramJson = json.load(f)"
   ]
  },
  {
   "cell_type": "code",
   "execution_count": null,
   "metadata": {},
   "outputs": [],
   "source": [
    "len(telegramJson)"
   ]
  },
  {
   "cell_type": "code",
   "execution_count": null,
   "metadata": {},
   "outputs": [],
   "source": [
    "telegramJson[2]"
   ]
  },
  {
   "cell_type": "code",
   "execution_count": null,
   "metadata": {},
   "outputs": [],
   "source": [
    "type(telegramJson)"
   ]
  },
  {
   "cell_type": "code",
   "execution_count": null,
   "metadata": {},
   "outputs": [],
   "source": [
    "df = pd.DataFrame(telegramJson)"
   ]
  },
  {
   "cell_type": "code",
   "execution_count": null,
   "metadata": {},
   "outputs": [],
   "source": [
    "df.columns"
   ]
  },
  {
   "cell_type": "code",
   "execution_count": null,
   "metadata": {},
   "outputs": [],
   "source": [
    "df.head(5)"
   ]
  },
  {
   "cell_type": "code",
   "execution_count": null,
   "metadata": {},
   "outputs": [],
   "source": [
    "#renaming partner's name to proper naming for easy analysis (without emoji)\n",
    "df['from'].replace('BBCheng😘💓', 'Jiayin', inplace=True)"
   ]
  },
  {
   "cell_type": "code",
   "execution_count": null,
   "metadata": {},
   "outputs": [],
   "source": [
    "#removing unnecessary features from raw json\n",
    "df.drop(['reply_to_message_id', 'edited','photo', 'width', 'height', 'file', 'thumbnail',\n",
    "       'media_type', 'sticker_emoji', 'mime_type', 'duration_seconds',\n",
    "       'forwarded_from', 'via_bot', 'contact_information', 'actor', 'actor_id',\n",
    "       'action', 'discard_reason', 'location_information',\n",
    "       'live_location_period_seconds', 'contact_vcard', 'poll'], axis=1, inplace=True)"
   ]
  },
  {
   "cell_type": "code",
   "execution_count": null,
   "metadata": {},
   "outputs": [],
   "source": [
    "df.head()"
   ]
  },
  {
   "cell_type": "code",
   "execution_count": null,
   "metadata": {},
   "outputs": [],
   "source": [
    "total = len(df)\n",
    "print(total)"
   ]
  },
  {
   "cell_type": "markdown",
   "metadata": {},
   "source": [
    "# EDA on counts over the Days, Months, Years"
   ]
  },
  {
   "cell_type": "code",
   "execution_count": null,
   "metadata": {},
   "outputs": [],
   "source": [
    "#creating new feature (year) for easy analysis\n",
    "df['year'] = df['date'].astype(str).str[0:4]"
   ]
  },
  {
   "cell_type": "code",
   "execution_count": null,
   "metadata": {},
   "outputs": [],
   "source": [
    "df.head()"
   ]
  },
  {
   "cell_type": "code",
   "execution_count": null,
   "metadata": {},
   "outputs": [],
   "source": [
    "xpos = 'center'\n",
    "offset = {'center': 0.5}\n",
    "plt.figure(figsize=(8,5))\n",
    "ax = sns.countplot('from', data=df)\n",
    "\n",
    "for rect in ax.patches:\n",
    "        height = rect.get_height()\n",
    "        ax.text(rect.get_x() + rect.get_width() * offset[xpos], 1 * height, '{}'.format(height), va='bottom', fontsize=10)\n",
    "\n",
    "\n",
    "plt.title('How many messages have we sent over the years?', fontsize = 12)\n",
    "plt.xlabel(\"Year\", labelpad=14)\n",
    "plt.ylabel(\"Messages\", labelpad=14)"
   ]
  },
  {
   "cell_type": "code",
   "execution_count": null,
   "metadata": {},
   "outputs": [],
   "source": [
    "xpos = 'center'\n",
    "offset = {'center': 0.5}\n",
    "plt.figure(figsize=(8,5))\n",
    "ax = sns.countplot('year', data=df)\n",
    "\n",
    "for rect in ax.patches:\n",
    "        height = rect.get_height()\n",
    "        ax.text(rect.get_x() + rect.get_width() * offset[xpos], 1 * height, '{}'.format(height), va='bottom', fontsize=10)\n",
    "\n",
    "\n",
    "plt.title('How many messages have we sent over the years?', fontsize = 12)\n",
    "plt.xlabel(\"Year\", labelpad=14)\n",
    "plt.ylabel(\"Messages\", labelpad=14)"
   ]
  },
  {
   "cell_type": "code",
   "execution_count": null,
   "metadata": {},
   "outputs": [],
   "source": [
    "xpos = 'center'\n",
    "offset = {'center': 0.2}\n",
    "plt.figure(figsize=(8,5))\n",
    "ax = sns.countplot('year', data=df, hue='from')\n",
    "\n",
    "for rect in ax.patches:\n",
    "        height = rect.get_height()\n",
    "        ax.text(rect.get_x() + rect.get_width() * offset[xpos], 1 * height, '{}'.format(height), va='bottom', fontsize=10)\n",
    "\n",
    "\n",
    "plt.title('How many messages have we sent over the years?', fontsize = 12)\n",
    "plt.xlabel(\"Year\", labelpad=14)\n",
    "plt.ylabel(\"Messages\", labelpad=14)"
   ]
  },
  {
   "cell_type": "markdown",
   "metadata": {},
   "source": [
    "# EDA deep dive by analysing Months and Years"
   ]
  },
  {
   "cell_type": "code",
   "execution_count": null,
   "metadata": {},
   "outputs": [],
   "source": [
    "#creating new feature (month) for easy analysis\n",
    "df['month'] = df['date'].astype(str).str[5:7]"
   ]
  },
  {
   "cell_type": "code",
   "execution_count": null,
   "metadata": {},
   "outputs": [],
   "source": [
    "df.head()"
   ]
  },
  {
   "cell_type": "code",
   "execution_count": null,
   "metadata": {},
   "outputs": [],
   "source": [
    "\"\"\"\"\n",
    "#creating new feature (Month2) for easy analysis and reading - eg. Apr, May, Jun\n",
    "monthMap = {'01':'Jan','02':'Feb','03':'Mar','04':'Apr','05':'May','06':'Jun','07':'Jul','08':'Aug', '09':'Sep','10':'Oct','11':'Nov','12':'Dec'}\n",
    "df['month2'] = df['month'].map(monthMap)\n",
    "df.drop(['month'], axis=1, inplace=True)\n",
    "df.rename(columns={'month2':'month'}, inplace=True)\n",
    "\"\"\"\""
   ]
  },
  {
   "cell_type": "code",
   "execution_count": null,
   "metadata": {},
   "outputs": [],
   "source": [
    "#creating simple pd with 12 months of counts across the 3 years of data\n",
    "year2017bymonth = pd.DataFrame(df[df['year']=='2017']['id'].groupby(df['month']).count())\n",
    "year2018bymonth = pd.DataFrame(df[df['year']=='2018']['id'].groupby(df['month']).count())\n",
    "year2019bymonth = pd.DataFrame(df[df['year']=='2019']['id'].groupby(df['month']).count())\n",
    "year2017bymonth = year2017bymonth.reset_index()\n",
    "year2018bymonth = year2018bymonth.reset_index()\n",
    "year2019bymonth = year2019bymonth.reset_index()"
   ]
  },
  {
   "cell_type": "code",
   "execution_count": null,
   "metadata": {},
   "outputs": [],
   "source": [
    "sns.barplot(x=\"month\", y=\"id\", data=year2017bymonth)\n",
    "plt.title('Total number of messages sent by months in 2017', fontsize = 12)"
   ]
  },
  {
   "cell_type": "code",
   "execution_count": null,
   "metadata": {},
   "outputs": [],
   "source": [
    "sns.barplot(x=\"month\", y=\"id\", data=year2018bymonth, palette=\"Blues_r\")\n",
    "plt.xlabel(\"Months\", labelpad=14)\n",
    "plt.ylabel(\"Messages\", labelpad=14)\n",
    "plt.title('Total number of messages sent by months in 2018', fontsize = 12)"
   ]
  },
  {
   "cell_type": "code",
   "execution_count": null,
   "metadata": {
    "scrolled": true
   },
   "outputs": [],
   "source": [
    "plt.figure(figsize=(6,5))\n",
    "sns.barplot(x=\"month\", y=\"id\", data=year2019bymonth)\n",
    "plt.xlabel(\"Months\", labelpad=14)\n",
    "plt.ylabel(\"Messages\", labelpad=14)\n",
    "plt.title('Total number of messages sent by months in 2019', fontsize = 12)"
   ]
  },
  {
   "cell_type": "markdown",
   "metadata": {},
   "source": [
    "# EDA deep dive by analysing Hours/Time of the day"
   ]
  },
  {
   "cell_type": "code",
   "execution_count": null,
   "metadata": {},
   "outputs": [],
   "source": [
    "df['hour'] = df['date'].astype(str).str[11:13]"
   ]
  },
  {
   "cell_type": "code",
   "execution_count": null,
   "metadata": {},
   "outputs": [],
   "source": [
    "df.head()"
   ]
  },
  {
   "cell_type": "code",
   "execution_count": null,
   "metadata": {},
   "outputs": [],
   "source": [
    "\"\"\"\"\n",
    "#creating method to determine if text was sent in morning, afternoon, night\n",
    "def impute_period(hr):\n",
    "    hour = int(hr)\n",
    "    \n",
    "    if hour >6 and hour <=12:\n",
    "        return 'Morning'\n",
    "    elif hour >13 and hour<=19:\n",
    "        return 'Afternoon'\n",
    "    else: \n",
    "        return 'Night'\n",
    "\"\"\""
   ]
  },
  {
   "cell_type": "code",
   "execution_count": null,
   "metadata": {},
   "outputs": [],
   "source": [
    "df.head()"
   ]
  },
  {
   "cell_type": "code",
   "execution_count": null,
   "metadata": {},
   "outputs": [],
   "source": [
    "hourPeriod = pd.DataFrame(df.groupby('hour')['id'].count())\n",
    "hourPeriod = hourPeriod.reset_index()"
   ]
  },
  {
   "cell_type": "code",
   "execution_count": null,
   "metadata": {},
   "outputs": [],
   "source": [
    "plt.figure(figsize=(8,5))\n",
    "sns.barplot(x=\"hour\", y=\"id\", data=hourPeriod)\n",
    "plt.title('Total number of messages sent by hours', fontsize = 12)\n",
    "plt.xlabel(\"Hour\", labelpad=14)\n",
    "plt.ylabel(\"Messages\", labelpad=14)"
   ]
  },
  {
   "cell_type": "code",
   "execution_count": null,
   "metadata": {},
   "outputs": [],
   "source": [
    "hourPeriod"
   ]
  },
  {
   "cell_type": "code",
   "execution_count": null,
   "metadata": {},
   "outputs": [],
   "source": [
    "yearHour = pd.DataFrame(df.groupby(['hour','year'])['id'].count())\n",
    "yearHour = yearHour.reset_index()"
   ]
  },
  {
   "cell_type": "code",
   "execution_count": null,
   "metadata": {},
   "outputs": [],
   "source": [
    "yearHour"
   ]
  },
  {
   "cell_type": "code",
   "execution_count": null,
   "metadata": {},
   "outputs": [],
   "source": [
    "fig, ax = plt.subplots(figsize=(20,6))\n",
    "heatmap_data = pd.pivot_table(yearHour, values='id', \n",
    "                     index=['year'], \n",
    "                     columns='hour')\n",
    "sns.heatmap(heatmap_data, cmap='Blues',linewidths=1, ax=ax)\n",
    "\n",
    "plt.xlabel(\"Hour\") \n",
    "plt.ylabel(\"Year\")\n",
    "plt.show()"
   ]
  },
  {
   "cell_type": "code",
   "execution_count": null,
   "metadata": {},
   "outputs": [],
   "source": []
  }
 ],
 "metadata": {
  "kernelspec": {
   "display_name": "Python 3",
   "language": "python",
   "name": "python3"
  },
  "language_info": {
   "codemirror_mode": {
    "name": "ipython",
    "version": 3
   },
   "file_extension": ".py",
   "mimetype": "text/x-python",
   "name": "python",
   "nbconvert_exporter": "python",
   "pygments_lexer": "ipython3",
   "version": "3.7.6"
  }
 },
 "nbformat": 4,
 "nbformat_minor": 2
}
